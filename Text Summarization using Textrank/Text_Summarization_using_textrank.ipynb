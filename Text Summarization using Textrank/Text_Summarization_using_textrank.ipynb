{
  "nbformat": 4,
  "nbformat_minor": 0,
  "metadata": {
    "colab": {
      "name": "Text_Summarization_using_textrank.ipynb",
      "provenance": [],
      "collapsed_sections": []
    },
    "kernelspec": {
      "name": "python3",
      "display_name": "Python 3"
    }
  },
  "cells": [
    {
      "cell_type": "code",
      "metadata": {
        "id": "0oI58gQABL2Z",
        "colab_type": "code",
        "colab": {}
      },
      "source": [
        "#Importing required libraries \n",
        "import numpy as np\n",
        "import pandas as pd\n",
        "import nltk\n",
        "nltk.download('punkt')\n",
        "from nltk.tokenize import sent_tokenize\n",
        "import networkx as nx"
      ],
      "execution_count": 0,
      "outputs": []
    },
    {
      "cell_type": "code",
      "metadata": {
        "id": "UGahKjlFAG_7",
        "colab_type": "code",
        "colab": {}
      },
      "source": [
        "#Importing tensorflow and universal sentence emmbedding from tensorflow hub\n",
        "import tensorflow as tf\n",
        "import tensorflow_hub as hub\n",
        "\n",
        "module_url = \"https://tfhub.dev/google/universal-sentence-encoder/4\" \n",
        "model = hub.load(module_url)\n",
        "print (\"module %s loaded\" % module_url)\n",
        "\n",
        "def embed(input):\n",
        "  return model(input)"
      ],
      "execution_count": 0,
      "outputs": []
    },
    {
      "cell_type": "code",
      "metadata": {
        "id": "DlLlOxikBnxA",
        "colab_type": "code",
        "colab": {}
      },
      "source": [
        "#loading the dataset\n",
        "dataset=pd.read_csv('/content/tennis_articles_v4.csv')"
      ],
      "execution_count": 0,
      "outputs": []
    },
    {
      "cell_type": "code",
      "metadata": {
        "id": "uPnz3NJtB424",
        "colab_type": "code",
        "colab": {}
      },
      "source": [
        "dataset.head()"
      ],
      "execution_count": 0,
      "outputs": []
    },
    {
      "cell_type": "code",
      "metadata": {
        "id": "hsO0EHOSB7CK",
        "colab_type": "code",
        "colab": {}
      },
      "source": [
        "dataset.keys()"
      ],
      "execution_count": 0,
      "outputs": []
    },
    {
      "cell_type": "code",
      "metadata": {
        "id": "Uj6uJbglCFQy",
        "colab_type": "code",
        "colab": {}
      },
      "source": [
        "dataset=dataset[['article_text']]\n",
        "dataset"
      ],
      "execution_count": 0,
      "outputs": []
    },
    {
      "cell_type": "code",
      "metadata": {
        "id": "9QVDwfM8CW3W",
        "colab_type": "code",
        "colab": {}
      },
      "source": [
        "#Sentence tokenization\n",
        "sentences = []\n",
        "for sentence in dataset['article_text']:\n",
        "  sentences.append(sent_tokenize(sentence))\n",
        "#flattening of the list\n",
        "sentences = [y for x in sentences for y in x]\n",
        "sentences"
      ],
      "execution_count": 0,
      "outputs": []
    },
    {
      "cell_type": "code",
      "metadata": {
        "id": "eGnV6eyzG2ui",
        "colab_type": "code",
        "colab": {}
      },
      "source": [
        "#Sentence encoder\n",
        "sentence_vector = embed(sentences)\n",
        "sentence_vector"
      ],
      "execution_count": 0,
      "outputs": []
    },
    {
      "cell_type": "code",
      "metadata": {
        "id": "r0lqJ1c7J_Tu",
        "colab_type": "code",
        "colab": {}
      },
      "source": [
        "#Similarity matrix as per universal sentence encoder\n",
        "similarity_matrix = np.inner(sentence_vector,sentence_vector)\n",
        "similarity_matrix"
      ],
      "execution_count": 0,
      "outputs": []
    },
    {
      "cell_type": "code",
      "metadata": {
        "id": "nhuddK5WLlDu",
        "colab_type": "code",
        "colab": {}
      },
      "source": [
        "#Applying pagerank algorithm\n",
        "nx_graph = nx.from_numpy_array(similarity_matrix)\n",
        "scores = nx.pagerank(nx_graph)"
      ],
      "execution_count": 0,
      "outputs": []
    },
    {
      "cell_type": "code",
      "metadata": {
        "id": "8lcnwsNFMBRy",
        "colab_type": "code",
        "colab": {}
      },
      "source": [
        "#Ranking the sentences as per the pagerank scores\n",
        "ranked_sentences = sorted(((scores[i],sent) for i,sent in enumerate(sentences)), reverse=True)"
      ],
      "execution_count": 0,
      "outputs": []
    },
    {
      "cell_type": "code",
      "metadata": {
        "id": "xXgXcKPrMbFJ",
        "colab_type": "code",
        "colab": {}
      },
      "source": [
        "#Extract top 15 sentences as the summary\n",
        "for i in range(15):\n",
        "  print(ranked_sentences[i][1])"
      ],
      "execution_count": 0,
      "outputs": []
    }
  ]
}