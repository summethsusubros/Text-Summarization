{
  "nbformat": 4,
  "nbformat_minor": 0,
  "metadata": {
    "colab": {
      "name": "Untitled13.ipynb",
      "provenance": [],
      "collapsed_sections": []
    },
    "kernelspec": {
      "name": "python3",
      "display_name": "Python 3"
    }
  },
  "cells": [
    {
      "cell_type": "markdown",
      "metadata": {
        "id": "_eFthzyRHGLe",
        "colab_type": "text"
      },
      "source": [
        "A simple implementation of text summarization using the power of transformers from ktrain library"
      ]
    },
    {
      "cell_type": "code",
      "metadata": {
        "id": "LD70Z6nwGHxQ",
        "colab_type": "code",
        "colab": {}
      },
      "source": [
        "#inatalling krain\n",
        "!pip install ktrain"
      ],
      "execution_count": 0,
      "outputs": []
    },
    {
      "cell_type": "code",
      "metadata": {
        "id": "padTw051Qp44",
        "colab_type": "code",
        "colab": {}
      },
      "source": [
        "#Loading the dataset.\n",
        "sample = open(\"/content/text_data.txt\", \"r\") \n",
        "s = sample.read() \n",
        "  \n",
        "text = s.replace(\"\\n\", \" \")"
      ],
      "execution_count": 0,
      "outputs": []
    },
    {
      "cell_type": "code",
      "metadata": {
        "id": "0Gs49C2GHEjB",
        "colab_type": "code",
        "colab": {}
      },
      "source": [
        "#importing text summerizer- TransformerSummarizer from text\n",
        "from ktrain import text\n",
        "textsummarizer= text.TransformerSummarizer()"
      ],
      "execution_count": 0,
      "outputs": []
    },
    {
      "cell_type": "code",
      "metadata": {
        "id": "Unzqz6BiI84B",
        "colab_type": "code",
        "colab": {}
      },
      "source": [
        "#extracting summary\n",
        "textsummarizer.summarize(text)"
      ],
      "execution_count": 0,
      "outputs": []
    }
  ]
}